{
 "cells": [
  {
   "cell_type": "code",
   "execution_count": 3,
   "metadata": {},
   "outputs": [],
   "source": [
    "import numpy as np\n",
    "from tensorflow import keras\n",
    "from keras.layers import Dense\n",
    "from keras.models import Sequential\n",
    "import tensorflow as tf\n",
    "import matplotlib.pyplot as plt\n",
    "from sklearn.metrics import accuracy_score\n",
    "from sklearn.preprocessing import StandardScaler, OneHotEncoder\n",
    "from sklearn.model_selection import train_test_split\n",
    "from random import *\n",
    "from regions import entire_region\n",
    "%matplotlib inline"
   ]
  },
  {
   "cell_type": "code",
   "execution_count": 58,
   "metadata": {},
   "outputs": [],
   "source": [
    "region  =  entire_region(1000)"
   ]
  },
  {
   "cell_type": "code",
   "execution_count": 115,
   "metadata": {},
   "outputs": [],
   "source": [
    "X = [[row[0], row[1]] for row in region]\n",
    "X = np.array(X)\n",
    "y = [row[2] for row in region]\n",
    "y = np.array(y)\n",
    "\n",
    "oh = OneHotEncoder()\n",
    "y_oh = oh.fit_transform(y.reshape(-1,1)).toarray()"
   ]
  },
  {
   "cell_type": "code",
   "execution_count": 87,
   "metadata": {},
   "outputs": [],
   "source": [
    "X_train, X_test, y_train, y_test = train_test_split(X, y_oh, test_size=0.20)\n",
    "X_train, X_val, y_train, y_val = train_test_split(X_train, y_train, test_size = 0.20, random_state = 0)\n",
    "\n",
    "from keras.losses import BinaryCrossentropy"
   ]
  },
  {
   "cell_type": "code",
   "execution_count": 90,
   "metadata": {},
   "outputs": [
    {
     "name": "stdout",
     "output_type": "stream",
     "text": [
      "Epoch 1/50\n",
      "160/160 [==============================] - 0s 2ms/step - loss: 1.9178 - accuracy: 0.2414 - val_loss: 1.7566 - val_accuracy: 0.3805\n",
      "Epoch 2/50\n",
      "160/160 [==============================] - 0s 2ms/step - loss: 1.5548 - accuracy: 0.4074 - val_loss: 1.3739 - val_accuracy: 0.4273\n",
      "Epoch 3/50\n",
      "160/160 [==============================] - 0s 2ms/step - loss: 1.2276 - accuracy: 0.5174 - val_loss: 1.1140 - val_accuracy: 0.5789\n",
      "Epoch 4/50\n",
      "160/160 [==============================] - 0s 1ms/step - loss: 1.0226 - accuracy: 0.6146 - val_loss: 0.9523 - val_accuracy: 0.6219\n",
      "Epoch 5/50\n",
      "160/160 [==============================] - 0s 2ms/step - loss: 0.8865 - accuracy: 0.6576 - val_loss: 0.8360 - val_accuracy: 0.6844\n",
      "Epoch 6/50\n",
      "160/160 [==============================] - 0s 2ms/step - loss: 0.7868 - accuracy: 0.6971 - val_loss: 0.7522 - val_accuracy: 0.7047\n",
      "Epoch 7/50\n",
      "160/160 [==============================] - 0s 2ms/step - loss: 0.7165 - accuracy: 0.7104 - val_loss: 0.6954 - val_accuracy: 0.7180\n",
      "Epoch 8/50\n",
      "160/160 [==============================] - 0s 2ms/step - loss: 0.6706 - accuracy: 0.7213 - val_loss: 0.6568 - val_accuracy: 0.7219\n",
      "Epoch 9/50\n",
      "160/160 [==============================] - 0s 2ms/step - loss: 0.6369 - accuracy: 0.7309 - val_loss: 0.6283 - val_accuracy: 0.7312\n",
      "Epoch 10/50\n",
      "160/160 [==============================] - 0s 2ms/step - loss: 0.6093 - accuracy: 0.7443 - val_loss: 0.6011 - val_accuracy: 0.7437\n",
      "Epoch 11/50\n",
      "160/160 [==============================] - 0s 2ms/step - loss: 0.5847 - accuracy: 0.7570 - val_loss: 0.5786 - val_accuracy: 0.7578\n",
      "Epoch 12/50\n",
      "160/160 [==============================] - 0s 2ms/step - loss: 0.5638 - accuracy: 0.7602 - val_loss: 0.5578 - val_accuracy: 0.7789\n",
      "Epoch 13/50\n",
      "160/160 [==============================] - 0s 2ms/step - loss: 0.5439 - accuracy: 0.7768 - val_loss: 0.5377 - val_accuracy: 0.7805\n",
      "Epoch 14/50\n",
      "160/160 [==============================] - 0s 2ms/step - loss: 0.5249 - accuracy: 0.7895 - val_loss: 0.5177 - val_accuracy: 0.7953\n",
      "Epoch 15/50\n",
      "160/160 [==============================] - 0s 3ms/step - loss: 0.5058 - accuracy: 0.7969 - val_loss: 0.4987 - val_accuracy: 0.7984\n",
      "Epoch 16/50\n",
      "160/160 [==============================] - 0s 2ms/step - loss: 0.4879 - accuracy: 0.8061 - val_loss: 0.4783 - val_accuracy: 0.8141\n",
      "Epoch 17/50\n",
      "160/160 [==============================] - 0s 2ms/step - loss: 0.4684 - accuracy: 0.8152 - val_loss: 0.4603 - val_accuracy: 0.8289\n",
      "Epoch 18/50\n",
      "160/160 [==============================] - 0s 2ms/step - loss: 0.4521 - accuracy: 0.8248 - val_loss: 0.4403 - val_accuracy: 0.8469\n",
      "Epoch 19/50\n",
      "160/160 [==============================] - 0s 3ms/step - loss: 0.4351 - accuracy: 0.8344 - val_loss: 0.4241 - val_accuracy: 0.8445\n",
      "Epoch 20/50\n",
      "160/160 [==============================] - 0s 3ms/step - loss: 0.4192 - accuracy: 0.8422 - val_loss: 0.4099 - val_accuracy: 0.8531\n",
      "Epoch 21/50\n",
      "160/160 [==============================] - 0s 2ms/step - loss: 0.4041 - accuracy: 0.8504 - val_loss: 0.3929 - val_accuracy: 0.8602\n",
      "Epoch 22/50\n",
      "160/160 [==============================] - 0s 2ms/step - loss: 0.3885 - accuracy: 0.8588 - val_loss: 0.3812 - val_accuracy: 0.8594\n",
      "Epoch 23/50\n",
      "160/160 [==============================] - 0s 2ms/step - loss: 0.3730 - accuracy: 0.8639 - val_loss: 0.3593 - val_accuracy: 0.8844\n",
      "Epoch 24/50\n",
      "160/160 [==============================] - 0s 2ms/step - loss: 0.3547 - accuracy: 0.8766 - val_loss: 0.3429 - val_accuracy: 0.8836\n",
      "Epoch 25/50\n",
      "160/160 [==============================] - 0s 2ms/step - loss: 0.3372 - accuracy: 0.8855 - val_loss: 0.3245 - val_accuracy: 0.8875\n",
      "Epoch 26/50\n",
      "160/160 [==============================] - 0s 2ms/step - loss: 0.3203 - accuracy: 0.8924 - val_loss: 0.3103 - val_accuracy: 0.8922\n",
      "Epoch 27/50\n",
      "160/160 [==============================] - 0s 2ms/step - loss: 0.3031 - accuracy: 0.9012 - val_loss: 0.2926 - val_accuracy: 0.9086\n",
      "Epoch 28/50\n",
      "160/160 [==============================] - 0s 2ms/step - loss: 0.2885 - accuracy: 0.9129 - val_loss: 0.2738 - val_accuracy: 0.9195\n",
      "Epoch 29/50\n",
      "160/160 [==============================] - 0s 2ms/step - loss: 0.2748 - accuracy: 0.9174 - val_loss: 0.2626 - val_accuracy: 0.9219\n",
      "Epoch 30/50\n",
      "160/160 [==============================] - 0s 2ms/step - loss: 0.2631 - accuracy: 0.9238 - val_loss: 0.2529 - val_accuracy: 0.9187\n",
      "Epoch 31/50\n",
      "160/160 [==============================] - 0s 2ms/step - loss: 0.2533 - accuracy: 0.9264 - val_loss: 0.2425 - val_accuracy: 0.9273\n",
      "Epoch 32/50\n",
      "160/160 [==============================] - 0s 2ms/step - loss: 0.2438 - accuracy: 0.9303 - val_loss: 0.2329 - val_accuracy: 0.9281\n",
      "Epoch 33/50\n",
      "160/160 [==============================] - 0s 2ms/step - loss: 0.2354 - accuracy: 0.9312 - val_loss: 0.2276 - val_accuracy: 0.9375\n",
      "Epoch 34/50\n",
      "160/160 [==============================] - 0s 2ms/step - loss: 0.2281 - accuracy: 0.9398 - val_loss: 0.2182 - val_accuracy: 0.9375\n",
      "Epoch 35/50\n",
      "160/160 [==============================] - 0s 2ms/step - loss: 0.2216 - accuracy: 0.9369 - val_loss: 0.2106 - val_accuracy: 0.9438\n",
      "Epoch 36/50\n",
      "160/160 [==============================] - 0s 2ms/step - loss: 0.2136 - accuracy: 0.9414 - val_loss: 0.2110 - val_accuracy: 0.9312\n",
      "Epoch 37/50\n",
      "160/160 [==============================] - 0s 2ms/step - loss: 0.2092 - accuracy: 0.9439 - val_loss: 0.2000 - val_accuracy: 0.9430\n",
      "Epoch 38/50\n",
      "160/160 [==============================] - 0s 2ms/step - loss: 0.2034 - accuracy: 0.9467 - val_loss: 0.1943 - val_accuracy: 0.9508\n",
      "Epoch 39/50\n",
      "160/160 [==============================] - 0s 2ms/step - loss: 0.1978 - accuracy: 0.9480 - val_loss: 0.1903 - val_accuracy: 0.9430\n",
      "Epoch 40/50\n",
      "160/160 [==============================] - 0s 2ms/step - loss: 0.1921 - accuracy: 0.9533 - val_loss: 0.1828 - val_accuracy: 0.9539\n",
      "Epoch 41/50\n",
      "160/160 [==============================] - 0s 2ms/step - loss: 0.1874 - accuracy: 0.9506 - val_loss: 0.1780 - val_accuracy: 0.9531\n",
      "Epoch 42/50\n",
      "160/160 [==============================] - 0s 2ms/step - loss: 0.1827 - accuracy: 0.9537 - val_loss: 0.1731 - val_accuracy: 0.9602\n",
      "Epoch 43/50\n",
      "160/160 [==============================] - 0s 2ms/step - loss: 0.1788 - accuracy: 0.9527 - val_loss: 0.1703 - val_accuracy: 0.9563\n",
      "Epoch 44/50\n",
      "160/160 [==============================] - 0s 2ms/step - loss: 0.1744 - accuracy: 0.9568 - val_loss: 0.1650 - val_accuracy: 0.9617\n",
      "Epoch 45/50\n",
      "160/160 [==============================] - 0s 2ms/step - loss: 0.1703 - accuracy: 0.9578 - val_loss: 0.1642 - val_accuracy: 0.9594\n",
      "Epoch 46/50\n",
      "160/160 [==============================] - 0s 2ms/step - loss: 0.1675 - accuracy: 0.9592 - val_loss: 0.1612 - val_accuracy: 0.9516\n",
      "Epoch 47/50\n",
      "160/160 [==============================] - 1s 4ms/step - loss: 0.1645 - accuracy: 0.9605 - val_loss: 0.1558 - val_accuracy: 0.9617\n",
      "Epoch 48/50\n",
      "160/160 [==============================] - 0s 2ms/step - loss: 0.1603 - accuracy: 0.9588 - val_loss: 0.1513 - val_accuracy: 0.9641\n",
      "Epoch 49/50\n",
      "160/160 [==============================] - 0s 2ms/step - loss: 0.1576 - accuracy: 0.9607 - val_loss: 0.1494 - val_accuracy: 0.9656\n",
      "Epoch 50/50\n",
      "160/160 [==============================] - 0s 2ms/step - loss: 0.1563 - accuracy: 0.9604 - val_loss: 0.1472 - val_accuracy: 0.9672\n"
     ]
    }
   ],
   "source": [
    "# Initialising the ANN\n",
    "classifier = Sequential()\n",
    "\n",
    "# Adding the input layer and the first hidden layer\n",
    "classifier.add(Dense(units = 16, kernel_initializer=\"glorot_uniform\", activation = 'relu'))\n",
    "classifier.add(Dense(units = 8, kernel_initializer=\"glorot_uniform\", activation = 'relu'))\n",
    "classifier.add(Dense(8, kernel_initializer=\"glorot_uniform\", activation = 'softmax'))\n",
    "\n",
    "classifier.compile(optimizer = 'adam', loss = 'categorical_crossentropy', metrics = ['accuracy'])\n",
    "history = classifier.fit(X_train, y_train, batch_size = 32, epochs = 50,validation_data=(X_val, y_val),callbacks=[tf.keras.callbacks.EarlyStopping(monitor='loss', patience=15,min_delta=0.1, verbose=10)])"
   ]
  },
  {
   "cell_type": "code",
   "execution_count": 91,
   "metadata": {},
   "outputs": [],
   "source": [
    "# Predicting the Test set results\n",
    "y_pred = classifier.predict(X_test)\n",
    "y_pred = (y_pred > 0.5)"
   ]
  },
  {
   "cell_type": "code",
   "execution_count": 92,
   "metadata": {},
   "outputs": [
    {
     "name": "stdout",
     "output_type": "stream",
     "text": [
      "dict_keys(['loss', 'accuracy', 'val_loss', 'val_accuracy'])\n"
     ]
    },
    {
     "data": {
      "text/plain": [
       "<matplotlib.legend.Legend at 0x7f32405d0880>"
      ]
     },
     "execution_count": 92,
     "metadata": {},
     "output_type": "execute_result"
    },
    {
     "data": {
      "image/png": "[encoded data removed]",
      "text/plain": [
       "<Figure size 432x288 with 1 Axes>"
      ]
     },
     "metadata": {
      "needs_background": "light"
     },
     "output_type": "display_data"
    }
   ],
   "source": [
    "history_dict = history.history\n",
    "print(history_dict.keys())\n",
    "\n",
    "# Plot training & validation accuracy values\n",
    "plt.plot(history.history['accuracy'])\n",
    "plt.plot(history.history['val_accuracy'])\n",
    "plt.title('Model accuracy')\n",
    "plt.ylabel('Accuracy')\n",
    "plt.xlabel('Epoch')\n",
    "plt.legend(['Train', 'Test'], loc='upper left')"
   ]
  },
  {
   "cell_type": "code",
   "execution_count": 93,
   "metadata": {},
   "outputs": [
    {
     "data": {
      "text/plain": [
       "<matplotlib.legend.Legend at 0x7f322043d760>"
      ]
     },
     "execution_count": 93,
     "metadata": {},
     "output_type": "execute_result"
    },
    {
     "data": {
      "image/png": "[encoded data removed]",
      "text/plain": [
       "<Figure size 432x288 with 1 Axes>"
      ]
     },
     "metadata": {
      "needs_background": "light"
     },
     "output_type": "display_data"
    }
   ],
   "source": [
    "# Plot training & validation loss values\n",
    "plt.plot(history.history['loss'])\n",
    "plt.plot(history.history['val_loss'])\n",
    "plt.title('Model loss')\n",
    "plt.ylabel('Loss')\n",
    "plt.xlabel('Epoch')\n",
    "plt.legend(['Train', 'Test'], loc='upper left')"
   ]
  },
  {
   "cell_type": "code",
   "execution_count": 111,
   "metadata": {},
   "outputs": [
    {
     "name": "stdout",
     "output_type": "stream",
     "text": [
      "              precision    recall  f1-score   support\n",
      "\n",
      "           0       0.96      0.94      0.95       199\n",
      "           1       0.94      0.92      0.93       215\n",
      "           2       0.98      0.93      0.96       210\n",
      "           3       0.95      0.97      0.96       196\n",
      "           4       0.98      0.96      0.97       201\n",
      "           5       0.94      0.94      0.94       200\n",
      "           6       0.97      0.98      0.97       172\n",
      "           7       0.98      0.99      0.98       207\n",
      "\n",
      "   micro avg       0.97      0.95      0.96      1600\n",
      "   macro avg       0.97      0.95      0.96      1600\n",
      "weighted avg       0.97      0.95      0.96      1600\n",
      " samples avg       0.95      0.95      0.95      1600\n",
      "\n"
     ]
    }
   ],
   "source": [
    "c = classification_report(y_test, y_pred)\n",
    "print(c)"
   ]
  },
  {
   "cell_type": "code",
   "execution_count": 107,
   "metadata": {},
   "outputs": [
    {
     "name": "stdout",
     "output_type": "stream",
     "text": [
      "[[190   0   0   6   3   0   0   0]\n",
      " [  7 197   0   0   0  11   0   0]\n",
      " [  7   2 195   0   0   0   6   0]\n",
      " [  1   0   0 191   0   0   0   4]\n",
      " [  8   0   0   0 193   0   0   0]\n",
      " [  1  10   0   0   0 189   0   0]\n",
      " [  0   0   3   0   0   0 169   0]\n",
      " [  0   0   0   3   0   0   0 204]]\n"
     ]
    }
   ],
   "source": [
    "cm = confusion_matrix(y_test.argmax(axis=1), y_pred.argmax(axis=1))\n",
    "print(cm)"
   ]
  },
  {
   "cell_type": "code",
   "execution_count": null,
   "metadata": {},
   "outputs": [],
   "source": []
  },
  {
   "cell_type": "code",
   "execution_count": null,
   "metadata": {},
   "outputs": [],
   "source": []
  }
 ],
 "metadata": {
  "kernelspec": {
   "display_name": "Python 3",
   "language": "python",
   "name": "python3"
  },
  "language_info": {
   "codemirror_mode": {
    "name": "ipython",
    "version": 3
   },
   "file_extension": ".py",
   "mimetype": "text/x-python",
   "name": "python",
   "nbconvert_exporter": "python",
   "pygments_lexer": "ipython3",
   "version": "3.8.3"
  }
 },
 "nbformat": 4,
 "nbformat_minor": 4
}
