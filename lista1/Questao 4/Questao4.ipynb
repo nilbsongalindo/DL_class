{
 "cells": [
  {
   "cell_type": "code",
   "execution_count": 116,
   "metadata": {},
   "outputs": [],
   "source": [
    "import numpy as np\n",
    "from tensorflow import keras\n",
    "from keras.layers import Dense, Dropout\n",
    "from keras.models import Sequential\n",
    "import tensorflow as tf\n",
    "import matplotlib.pyplot as plt\n",
    "from sklearn.metrics import accuracy_score\n",
    "from sklearn.preprocessing import StandardScaler, OneHotEncoder\n",
    "from sklearn.model_selection import train_test_split\n",
    "from keras.metrics import MeanSquaredError\n",
    "from random import *\n",
    "%matplotlib inline"
   ]
  },
  {
   "cell_type": "code",
   "execution_count": 117,
   "metadata": {},
   "outputs": [],
   "source": [
    "function_to_learn = lambda x: np.sin(x + np.sin(x)**2) + 0.01*np.random.randn(*x.shape)\n",
    "all_X = np.arange(0, 100, 0.1, 'float')\n",
    "all_X = [function_to_learn(x) for x in all_X]\n",
    "all_data_X = np.zeros(shape=(int(len(all_X)-9), 10))"
   ]
  },
  {
   "cell_type": "code",
   "execution_count": 118,
   "metadata": {},
   "outputs": [],
   "source": [
    "i = 0\n",
    "for id, elem in enumerate(all_X):\n",
    "    row_X = all_X[id:10+id]\n",
    "    if len(row_X) == 10:\n",
    "        all_data_X[i] = row_X\n",
    "        i = i + 1"
   ]
  },
  {
   "cell_type": "code",
   "execution_count": 119,
   "metadata": {},
   "outputs": [],
   "source": [
    "X = all_data_X.copy()\n",
    "y = [[x[1], x[2], x[3]] for x in X]\n",
    "y = y[9:]\n",
    "y = np.array(y)\n",
    "X = X[:-9]"
   ]
  },
  {
   "cell_type": "code",
   "execution_count": 120,
   "metadata": {},
   "outputs": [],
   "source": [
    "X_train, X_test, y_train, y_test = train_test_split(X, y, test_size=0.20)\n",
    "X_train, X_val, y_train, y_val = train_test_split(X_train, y_train, test_size = 0.20, random_state = 0)"
   ]
  },
  {
   "cell_type": "code",
   "execution_count": 121,
   "metadata": {},
   "outputs": [
    {
     "name": "stdout",
     "output_type": "stream",
     "text": [
      "Epoch 1/500\n",
      "20/20 [==============================] - 0s 10ms/step - loss: 0.3891 - mean_squared_error: 0.3891 - val_loss: 0.1684 - val_mean_squared_error: 0.1684\n",
      "Epoch 2/500\n",
      "20/20 [==============================] - 0s 4ms/step - loss: 0.1784 - mean_squared_error: 0.1784 - val_loss: 0.0693 - val_mean_squared_error: 0.0693\n",
      "Epoch 3/500\n",
      "20/20 [==============================] - 0s 4ms/step - loss: 0.1133 - mean_squared_error: 0.1133 - val_loss: 0.0508 - val_mean_squared_error: 0.0508\n",
      "Epoch 4/500\n",
      "20/20 [==============================] - 0s 4ms/step - loss: 0.0893 - mean_squared_error: 0.0893 - val_loss: 0.0416 - val_mean_squared_error: 0.0416\n",
      "Epoch 5/500\n",
      "20/20 [==============================] - 0s 3ms/step - loss: 0.0794 - mean_squared_error: 0.0794 - val_loss: 0.0361 - val_mean_squared_error: 0.0361\n",
      "Epoch 6/500\n",
      "20/20 [==============================] - 0s 4ms/step - loss: 0.0735 - mean_squared_error: 0.0735 - val_loss: 0.0326 - val_mean_squared_error: 0.0326\n",
      "Epoch 7/500\n",
      "20/20 [==============================] - 0s 3ms/step - loss: 0.0675 - mean_squared_error: 0.0675 - val_loss: 0.0309 - val_mean_squared_error: 0.0309\n",
      "Epoch 8/500\n",
      "20/20 [==============================] - 0s 4ms/step - loss: 0.0656 - mean_squared_error: 0.0656 - val_loss: 0.0294 - val_mean_squared_error: 0.0294\n",
      "Epoch 9/500\n",
      "20/20 [==============================] - 0s 4ms/step - loss: 0.0548 - mean_squared_error: 0.0548 - val_loss: 0.0293 - val_mean_squared_error: 0.0293\n",
      "Epoch 10/500\n",
      "20/20 [==============================] - 0s 4ms/step - loss: 0.0577 - mean_squared_error: 0.0577 - val_loss: 0.0291 - val_mean_squared_error: 0.0291\n",
      "Epoch 11/500\n",
      "20/20 [==============================] - 0s 4ms/step - loss: 0.0553 - mean_squared_error: 0.0553 - val_loss: 0.0279 - val_mean_squared_error: 0.0279\n",
      "Epoch 12/500\n",
      "20/20 [==============================] - 0s 4ms/step - loss: 0.0492 - mean_squared_error: 0.0492 - val_loss: 0.0279 - val_mean_squared_error: 0.0279\n",
      "Epoch 13/500\n",
      "20/20 [==============================] - 0s 4ms/step - loss: 0.0521 - mean_squared_error: 0.0521 - val_loss: 0.0282 - val_mean_squared_error: 0.0282\n",
      "Epoch 14/500\n",
      "20/20 [==============================] - 0s 4ms/step - loss: 0.0422 - mean_squared_error: 0.0422 - val_loss: 0.0278 - val_mean_squared_error: 0.0278\n",
      "Epoch 15/500\n",
      "20/20 [==============================] - 0s 4ms/step - loss: 0.0427 - mean_squared_error: 0.0427 - val_loss: 0.0261 - val_mean_squared_error: 0.0261\n",
      "Epoch 16/500\n",
      "20/20 [==============================] - 0s 4ms/step - loss: 0.0407 - mean_squared_error: 0.0407 - val_loss: 0.0267 - val_mean_squared_error: 0.0267\n",
      "Epoch 17/500\n",
      "20/20 [==============================] - 0s 4ms/step - loss: 0.0368 - mean_squared_error: 0.0368 - val_loss: 0.0270 - val_mean_squared_error: 0.0270\n",
      "Epoch 18/500\n",
      "20/20 [==============================] - 0s 4ms/step - loss: 0.0346 - mean_squared_error: 0.0346 - val_loss: 0.0260 - val_mean_squared_error: 0.0260\n",
      "Epoch 19/500\n",
      "20/20 [==============================] - 0s 5ms/step - loss: 0.0323 - mean_squared_error: 0.0323 - val_loss: 0.0255 - val_mean_squared_error: 0.0255\n",
      "Epoch 20/500\n",
      "20/20 [==============================] - 0s 6ms/step - loss: 0.0314 - mean_squared_error: 0.0314 - val_loss: 0.0272 - val_mean_squared_error: 0.0272\n",
      "Epoch 21/500\n",
      "20/20 [==============================] - 0s 4ms/step - loss: 0.0284 - mean_squared_error: 0.0284 - val_loss: 0.0267 - val_mean_squared_error: 0.0267\n",
      "Epoch 22/500\n",
      "20/20 [==============================] - 0s 3ms/step - loss: 0.0275 - mean_squared_error: 0.0275 - val_loss: 0.0262 - val_mean_squared_error: 0.0262\n",
      "Epoch 23/500\n",
      "20/20 [==============================] - 0s 4ms/step - loss: 0.0257 - mean_squared_error: 0.0257 - val_loss: 0.0264 - val_mean_squared_error: 0.0264\n",
      "Epoch 24/500\n",
      "20/20 [==============================] - 0s 6ms/step - loss: 0.0248 - mean_squared_error: 0.0248 - val_loss: 0.0268 - val_mean_squared_error: 0.0268\n",
      "Epoch 25/500\n",
      "20/20 [==============================] - 0s 4ms/step - loss: 0.0235 - mean_squared_error: 0.0235 - val_loss: 0.0257 - val_mean_squared_error: 0.0257\n",
      "Epoch 26/500\n",
      "20/20 [==============================] - 0s 4ms/step - loss: 0.0232 - mean_squared_error: 0.0232 - val_loss: 0.0277 - val_mean_squared_error: 0.0277\n",
      "Epoch 00026: early stopping\n"
     ]
    }
   ],
   "source": [
    "scaler = StandardScaler()\n",
    "X_train = scaler.fit_transform(X_train)\n",
    "X_test = scaler.transform(X_test)\n",
    "model = Sequential()\n",
    "\n",
    "model.add(Dense(units = 10, activation = 'tanh'))\n",
    "model.add(Dropout(0.2))\n",
    "model.add(Dense(units = 4, activation = 'tanh'))\n",
    "model.add(Dense(3, activation = 'tanh'))\n",
    "\n",
    "model.compile(optimizer = 'adam', loss = 'mse', metrics = MeanSquaredError())\n",
    "history = model.fit(X_train, y_train, batch_size = 32, epochs = 500,validation_data=(X_val, y_val),callbacks=[tf.keras.callbacks.EarlyStopping(monitor='loss', patience=20,min_delta=0.1, verbose=10)])"
   ]
  },
  {
   "cell_type": "code",
   "execution_count": 115,
   "metadata": {},
   "outputs": [
    {
     "data": {
      "text/plain": [
       "<matplotlib.legend.Legend at 0x7ff59b11f8b0>"
      ]
     },
     "execution_count": 115,
     "metadata": {},
     "output_type": "execute_result"
    },
    {
     "data": {
      "image/png": "[encoded data removed]",
      "text/plain": [
       "<Figure size 432x288 with 1 Axes>"
      ]
     },
     "metadata": {
      "needs_background": "light"
     },
     "output_type": "display_data"
    }
   ],
   "source": [
    "# Plot training & validation loss values\n",
    "plt.plot(history.history['loss'])\n",
    "plt.plot(history.history['val_loss'])\n",
    "plt.title('Model loss')\n",
    "plt.ylabel('Loss')\n",
    "plt.xlabel('Epoch')\n",
    "plt.legend(['Train', 'Test'], loc='upper left')"
   ]
  },
  {
   "cell_type": "code",
   "execution_count": null,
   "metadata": {},
   "outputs": [],
   "source": []
  }
 ],
 "metadata": {
  "kernelspec": {
   "display_name": "Python 3",
   "language": "python",
   "name": "python3"
  },
  "language_info": {
   "codemirror_mode": {
    "name": "ipython",
    "version": 3
   },
   "file_extension": ".py",
   "mimetype": "text/x-python",
   "name": "python",
   "nbconvert_exporter": "python",
   "pygments_lexer": "ipython3",
   "version": "3.8.3"
  }
 },
 "nbformat": 4,
 "nbformat_minor": 4
}
