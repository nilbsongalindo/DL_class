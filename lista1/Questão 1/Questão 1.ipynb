{
 "cells": [
  {
   "cell_type": "code",
   "execution_count": 5,
   "metadata": {},
   "outputs": [],
   "source": [
    "import numpy as np\n",
    "from tensorflow import keras\n",
    "from keras.layers import Dense\n",
    "from keras.models import Sequential\n",
    "import tensorflow as tf\n",
    "import matplotlib.pyplot as plt\n",
    "from sklearn.metrics import accuracy_score\n",
    "from sklearn.preprocessing import MinMaxScaler, OneHotEncoder\n",
    "from sklearn.model_selection import train_test_split\n",
    "from random import *\n",
    "%matplotlib inline"
   ]
  },
  {
   "cell_type": "markdown",
   "metadata": {},
   "source": [
    "## Geração de dados e conjuntos de treino e teste "
   ]
  },
  {
   "cell_type": "code",
   "execution_count": 6,
   "metadata": {},
   "outputs": [],
   "source": [
    "def rand():\n",
    "    return round(randint(0,1) + uniform(-0.1, 0.1),3)\n",
    "\n",
    "def binaryToDecimal(n): \n",
    "    return int(n,2) \n",
    "\n",
    "n_instances = 1500\n",
    "X = np.zeros((n_instances, 3), dtype=np.float32)\n",
    "y = np.zeros(n_instances, dtype=np.int)\n",
    "\n",
    "\n",
    "for i in range(n_instances):\n",
    "    val = np.array([rand(), rand(), rand()])\n",
    "    X[i] = val\n",
    "\n",
    "    code = np.array([round(val[0]), round(val[1]), round(val[2])])\n",
    "    label = np.array([code[0]*4 + code[1]*2 + code[2]])\n",
    "    y[i] = label\n",
    "    \n",
    "oh = OneHotEncoder()\n",
    "y_oh = oh.fit_transform(y.reshape(-1,1)).toarray()\n",
    "\n",
    "\n",
    "X_train, X_test, y_train, y_test = train_test_split(X, y_oh, test_size=0.20)\n",
    "X_train, X_val, y_train, y_val = train_test_split(X_train, y_train, test_size = 0.20, random_state = 0)"
   ]
  },
  {
   "cell_type": "code",
   "execution_count": 7,
   "metadata": {},
   "outputs": [
    {
     "name": "stdout",
     "output_type": "stream",
     "text": [
      "Epoch 1/150\n",
      "30/30 [==============================] - 0s 9ms/step - loss: 1.8240 - accuracy: 0.2594 - val_loss: 1.7907 - val_accuracy: 0.2542\n",
      "Epoch 2/150\n",
      "30/30 [==============================] - 0s 3ms/step - loss: 1.7244 - accuracy: 0.3073 - val_loss: 1.6853 - val_accuracy: 0.3667\n",
      "Epoch 3/150\n",
      "30/30 [==============================] - 0s 2ms/step - loss: 1.6292 - accuracy: 0.4792 - val_loss: 1.5891 - val_accuracy: 0.5083\n",
      "Epoch 4/150\n",
      "30/30 [==============================] - 0s 2ms/step - loss: 1.5368 - accuracy: 0.6062 - val_loss: 1.4945 - val_accuracy: 0.6708\n",
      "Epoch 5/150\n",
      "30/30 [==============================] - 0s 3ms/step - loss: 1.4449 - accuracy: 0.7094 - val_loss: 1.4004 - val_accuracy: 0.7250\n",
      "Epoch 6/150\n",
      "30/30 [==============================] - 0s 3ms/step - loss: 1.3535 - accuracy: 0.7688 - val_loss: 1.3062 - val_accuracy: 0.7958\n",
      "Epoch 7/150\n",
      "30/30 [==============================] - 0s 3ms/step - loss: 1.2617 - accuracy: 0.8281 - val_loss: 1.2141 - val_accuracy: 0.8458\n",
      "Epoch 8/150\n",
      "30/30 [==============================] - 0s 3ms/step - loss: 1.1712 - accuracy: 0.8885 - val_loss: 1.1244 - val_accuracy: 0.8833\n",
      "Epoch 9/150\n",
      "30/30 [==============================] - 0s 3ms/step - loss: 1.0820 - accuracy: 0.9260 - val_loss: 1.0355 - val_accuracy: 0.9292\n",
      "Epoch 10/150\n",
      "30/30 [==============================] - 0s 3ms/step - loss: 0.9948 - accuracy: 0.9552 - val_loss: 0.9501 - val_accuracy: 0.9708\n",
      "Epoch 11/150\n",
      "30/30 [==============================] - 0s 3ms/step - loss: 0.9108 - accuracy: 0.9833 - val_loss: 0.8697 - val_accuracy: 0.9958\n",
      "Epoch 12/150\n",
      "30/30 [==============================] - 0s 2ms/step - loss: 0.8305 - accuracy: 0.9990 - val_loss: 0.7920 - val_accuracy: 1.0000\n",
      "Epoch 13/150\n",
      "30/30 [==============================] - 0s 2ms/step - loss: 0.7548 - accuracy: 1.0000 - val_loss: 0.7198 - val_accuracy: 1.0000\n",
      "Epoch 14/150\n",
      "30/30 [==============================] - 0s 2ms/step - loss: 0.6834 - accuracy: 1.0000 - val_loss: 0.6535 - val_accuracy: 1.0000\n",
      "Epoch 15/150\n",
      "30/30 [==============================] - 0s 5ms/step - loss: 0.6177 - accuracy: 1.0000 - val_loss: 0.5909 - val_accuracy: 1.0000\n",
      "Epoch 16/150\n",
      "30/30 [==============================] - 0s 2ms/step - loss: 0.5572 - accuracy: 1.0000 - val_loss: 0.5344 - val_accuracy: 1.0000\n",
      "Epoch 17/150\n",
      "30/30 [==============================] - 0s 2ms/step - loss: 0.5026 - accuracy: 1.0000 - val_loss: 0.4835 - val_accuracy: 1.0000\n",
      "Epoch 18/150\n",
      "30/30 [==============================] - 0s 3ms/step - loss: 0.4531 - accuracy: 1.0000 - val_loss: 0.4372 - val_accuracy: 1.0000\n",
      "Epoch 19/150\n",
      "30/30 [==============================] - 0s 3ms/step - loss: 0.4087 - accuracy: 1.0000 - val_loss: 0.3959 - val_accuracy: 1.0000\n",
      "Epoch 20/150\n",
      "30/30 [==============================] - 0s 3ms/step - loss: 0.3691 - accuracy: 1.0000 - val_loss: 0.3590 - val_accuracy: 1.0000\n",
      "Epoch 21/150\n",
      "30/30 [==============================] - 0s 3ms/step - loss: 0.3340 - accuracy: 1.0000 - val_loss: 0.3261 - val_accuracy: 1.0000\n",
      "Epoch 22/150\n",
      "30/30 [==============================] - 0s 3ms/step - loss: 0.3028 - accuracy: 1.0000 - val_loss: 0.2971 - val_accuracy: 1.0000\n",
      "Epoch 23/150\n",
      "30/30 [==============================] - 0s 3ms/step - loss: 0.2753 - accuracy: 1.0000 - val_loss: 0.2708 - val_accuracy: 1.0000\n",
      "Epoch 24/150\n",
      "30/30 [==============================] - 0s 3ms/step - loss: 0.2507 - accuracy: 1.0000 - val_loss: 0.2475 - val_accuracy: 1.0000\n",
      "Epoch 25/150\n",
      "30/30 [==============================] - 0s 3ms/step - loss: 0.2289 - accuracy: 1.0000 - val_loss: 0.2270 - val_accuracy: 1.0000\n",
      "Epoch 26/150\n",
      "30/30 [==============================] - 0s 3ms/step - loss: 0.2096 - accuracy: 1.0000 - val_loss: 0.2084 - val_accuracy: 1.0000\n",
      "Epoch 27/150\n",
      "30/30 [==============================] - 0s 3ms/step - loss: 0.1924 - accuracy: 1.0000 - val_loss: 0.1920 - val_accuracy: 1.0000\n",
      "Epoch 28/150\n",
      "30/30 [==============================] - 0s 3ms/step - loss: 0.1770 - accuracy: 1.0000 - val_loss: 0.1771 - val_accuracy: 1.0000\n",
      "Epoch 29/150\n",
      "30/30 [==============================] - 0s 4ms/step - loss: 0.1632 - accuracy: 1.0000 - val_loss: 0.1638 - val_accuracy: 1.0000\n",
      "Epoch 30/150\n",
      "30/30 [==============================] - 0s 4ms/step - loss: 0.1509 - accuracy: 1.0000 - val_loss: 0.1517 - val_accuracy: 1.0000\n",
      "Epoch 31/150\n",
      "30/30 [==============================] - 0s 3ms/step - loss: 0.1397 - accuracy: 1.0000 - val_loss: 0.1411 - val_accuracy: 1.0000\n",
      "Epoch 32/150\n",
      "30/30 [==============================] - 0s 3ms/step - loss: 0.1297 - accuracy: 1.0000 - val_loss: 0.1312 - val_accuracy: 1.0000\n",
      "Epoch 33/150\n",
      "30/30 [==============================] - 0s 4ms/step - loss: 0.1206 - accuracy: 1.0000 - val_loss: 0.1223 - val_accuracy: 1.0000\n",
      "Epoch 34/150\n",
      "30/30 [==============================] - 0s 3ms/step - loss: 0.1124 - accuracy: 1.0000 - val_loss: 0.1143 - val_accuracy: 1.0000\n",
      "Epoch 35/150\n",
      "30/30 [==============================] - 0s 3ms/step - loss: 0.1050 - accuracy: 1.0000 - val_loss: 0.1069 - val_accuracy: 1.0000\n",
      "Epoch 36/150\n",
      "30/30 [==============================] - 0s 3ms/step - loss: 0.0982 - accuracy: 1.0000 - val_loss: 0.1002 - val_accuracy: 1.0000\n",
      "Epoch 37/150\n",
      "30/30 [==============================] - 0s 5ms/step - loss: 0.0920 - accuracy: 1.0000 - val_loss: 0.0940 - val_accuracy: 1.0000\n",
      "Epoch 38/150\n",
      "30/30 [==============================] - 0s 11ms/step - loss: 0.0864 - accuracy: 1.0000 - val_loss: 0.0884 - val_accuracy: 1.0000\n",
      "Epoch 39/150\n",
      "30/30 [==============================] - 0s 3ms/step - loss: 0.0811 - accuracy: 1.0000 - val_loss: 0.0833 - val_accuracy: 1.0000\n",
      "Epoch 40/150\n",
      "30/30 [==============================] - 0s 3ms/step - loss: 0.0764 - accuracy: 1.0000 - val_loss: 0.0785 - val_accuracy: 1.0000\n",
      "Epoch 41/150\n",
      "30/30 [==============================] - 0s 4ms/step - loss: 0.0720 - accuracy: 1.0000 - val_loss: 0.0742 - val_accuracy: 1.0000\n",
      "Epoch 00041: early stopping\n"
     ]
    }
   ],
   "source": [
    "# Initialising the ANN\n",
    "classifier = Sequential()\n",
    "\n",
    "# Adding the input layer and the first hidden layer\n",
    "classifier.add(Dense(units = 12, kernel_initializer=\"glorot_uniform\", activation = 'linear', input_dim=X_train.shape[1]))\n",
    "classifier.add(Dense(8, kernel_initializer=\"glorot_uniform\", activation = 'softmax'))\n",
    "\n",
    "classifier.compile(optimizer = 'adam', loss = 'categorical_crossentropy', metrics = ['accuracy'])\n",
    "history = classifier.fit(X_train, y_train, batch_size = 32, epochs = 150,validation_data=(X_val, y_val),callbacks=[tf.keras.callbacks.EarlyStopping(monitor='loss', patience=10,min_delta=0.1, verbose=10)])"
   ]
  },
  {
   "cell_type": "code",
   "execution_count": 8,
   "metadata": {},
   "outputs": [],
   "source": [
    "# Predicting the Test set results\n",
    "y_pred = classifier.predict(X_test)\n",
    "y_pred = (y_pred > 0.5)"
   ]
  },
  {
   "cell_type": "code",
   "execution_count": 9,
   "metadata": {},
   "outputs": [
    {
     "name": "stdout",
     "output_type": "stream",
     "text": [
      "dict_keys(['loss', 'accuracy', 'val_loss', 'val_accuracy'])\n"
     ]
    },
    {
     "data": {
      "text/plain": [
       "<matplotlib.legend.Legend at 0x7fcd607dbf10>"
      ]
     },
     "execution_count": 9,
     "metadata": {},
     "output_type": "execute_result"
    },
    {
     "data": {
      "image/png": "[encoded data removed]",
      "text/plain": [
       "<Figure size 432x288 with 1 Axes>"
      ]
     },
     "metadata": {
      "needs_background": "light"
     },
     "output_type": "display_data"
    }
   ],
   "source": [
    "history_dict = history.history\n",
    "print(history_dict.keys())\n",
    "\n",
    "# Plot training & validation accuracy values\n",
    "plt.plot(history.history['accuracy'])\n",
    "plt.plot(history.history['val_accuracy'])\n",
    "plt.title('Model accuracy')\n",
    "plt.ylabel('Accuracy')\n",
    "plt.xlabel('Epoch')\n",
    "plt.legend(['Train', 'Test'], loc='upper left')"
   ]
  },
  {
   "cell_type": "code",
   "execution_count": 10,
   "metadata": {},
   "outputs": [
    {
     "data": {
      "text/plain": [
       "<matplotlib.legend.Legend at 0x7fcd80041ee0>"
      ]
     },
     "execution_count": 10,
     "metadata": {},
     "output_type": "execute_result"
    },
    {
     "data": {
      "image/png": "[encoded data removed]",
      "text/plain": [
       "<Figure size 432x288 with 1 Axes>"
      ]
     },
     "metadata": {
      "needs_background": "light"
     },
     "output_type": "display_data"
    }
   ],
   "source": [
    "# Plot training & validation loss values\n",
    "plt.plot(history.history['loss'])\n",
    "plt.plot(history.history['val_loss'])\n",
    "plt.title('Model loss')\n",
    "plt.ylabel('Loss')\n",
    "plt.xlabel('Epoch')\n",
    "plt.legend(['Train', 'Test'], loc='upper left')"
   ]
  },
  {
   "cell_type": "code",
   "execution_count": null,
   "metadata": {},
   "outputs": [],
   "source": []
  },
  {
   "cell_type": "code",
   "execution_count": null,
   "metadata": {},
   "outputs": [],
   "source": []
  }
 ],
 "metadata": {
  "kernelspec": {
   "display_name": "Python 3",
   "language": "python",
   "name": "python3"
  },
  "language_info": {
   "codemirror_mode": {
    "name": "ipython",
    "version": 3
   },
   "file_extension": ".py",
   "mimetype": "text/x-python",
   "name": "python",
   "nbconvert_exporter": "python",
   "pygments_lexer": "ipython3",
   "version": "3.8.3"
  }
 },
 "nbformat": 4,
 "nbformat_minor": 4
}
