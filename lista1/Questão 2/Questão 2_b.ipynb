{
 "cells": [
  {
   "cell_type": "code",
   "execution_count": 1,
   "metadata": {},
   "outputs": [],
   "source": [
    "import numpy as np\n",
    "from tensorflow import keras\n",
    "from keras.layers import Dense\n",
    "from keras.models import Sequential\n",
    "import tensorflow as tf\n",
    "import matplotlib.pyplot as plt\n",
    "from sklearn.metrics import accuracy_score\n",
    "from sklearn.preprocessing import StandardScaler, OneHotEncoder\n",
    "from sklearn.model_selection import train_test_split\n",
    "from random import *\n",
    "%matplotlib inline"
   ]
  },
  {
   "cell_type": "code",
   "execution_count": 19,
   "metadata": {},
   "outputs": [],
   "source": [
    "n_points =  3500\n",
    "data = np.zeros(shape=(n_points, 2))\n",
    "\n",
    "for i in range(n_points):\n",
    "    x = np.random.uniform(0, 4)\n",
    "    data[i][0] = x\n",
    "    data[i][1] = (np.sin(np.pi*x)) / (np.pi * x)\n",
    "    \n"
   ]
  },
  {
   "cell_type": "code",
   "execution_count": 20,
   "metadata": {},
   "outputs": [],
   "source": [
    "X = data[:, 0]\n",
    "X = X.reshape(-1, 1)\n",
    "y = data[:, 1]\n",
    "y = y.reshape(-1,1)"
   ]
  },
  {
   "cell_type": "code",
   "execution_count": 24,
   "metadata": {},
   "outputs": [],
   "source": [
    "X_train, X_test, y_train, y_test = train_test_split(X, y, test_size=0.20)\n",
    "X_train, X_val, y_train, y_val = train_test_split(X_train, y_train, test_size = 0.20, random_state = 0)\n",
    "\n",
    "\n",
    "from keras.metrics import MeanSquaredError"
   ]
  },
  {
   "cell_type": "code",
   "execution_count": 25,
   "metadata": {},
   "outputs": [
    {
     "name": "stdout",
     "output_type": "stream",
     "text": [
      "Epoch 1/150\n",
      "70/70 [==============================] - 0s 5ms/step - loss: 0.1258 - mean_squared_error: 0.1258 - val_loss: 0.0871 - val_mean_squared_error: 0.0871\n",
      "Epoch 2/150\n",
      "70/70 [==============================] - 0s 2ms/step - loss: 0.0750 - mean_squared_error: 0.0750 - val_loss: 0.0734 - val_mean_squared_error: 0.0734\n",
      "Epoch 3/150\n",
      "70/70 [==============================] - 0s 2ms/step - loss: 0.0651 - mean_squared_error: 0.0651 - val_loss: 0.0645 - val_mean_squared_error: 0.0645\n",
      "Epoch 4/150\n",
      "70/70 [==============================] - 0s 2ms/step - loss: 0.0573 - mean_squared_error: 0.0573 - val_loss: 0.0566 - val_mean_squared_error: 0.0566\n",
      "Epoch 5/150\n",
      "70/70 [==============================] - 0s 2ms/step - loss: 0.0503 - mean_squared_error: 0.0503 - val_loss: 0.0497 - val_mean_squared_error: 0.0497\n",
      "Epoch 6/150\n",
      "70/70 [==============================] - 0s 2ms/step - loss: 0.0443 - mean_squared_error: 0.0443 - val_loss: 0.0438 - val_mean_squared_error: 0.0438\n",
      "Epoch 7/150\n",
      "70/70 [==============================] - 0s 2ms/step - loss: 0.0392 - mean_squared_error: 0.0392 - val_loss: 0.0389 - val_mean_squared_error: 0.0389\n",
      "Epoch 8/150\n",
      "70/70 [==============================] - 0s 2ms/step - loss: 0.0350 - mean_squared_error: 0.0350 - val_loss: 0.0349 - val_mean_squared_error: 0.0349\n",
      "Epoch 9/150\n",
      "70/70 [==============================] - 0s 2ms/step - loss: 0.0315 - mean_squared_error: 0.0315 - val_loss: 0.0317 - val_mean_squared_error: 0.0317\n",
      "Epoch 10/150\n",
      "70/70 [==============================] - 0s 2ms/step - loss: 0.0287 - mean_squared_error: 0.0287 - val_loss: 0.0290 - val_mean_squared_error: 0.0290\n",
      "Epoch 11/150\n",
      "70/70 [==============================] - 0s 2ms/step - loss: 0.0264 - mean_squared_error: 0.0264 - val_loss: 0.0267 - val_mean_squared_error: 0.0267\n",
      "Epoch 00011: early stopping\n"
     ]
    }
   ],
   "source": [
    "# Initialising the ANN\n",
    "model = Sequential()\n",
    "\n",
    "# Adding the input layer and the first hidden layer\n",
    "model.add(Dense(units = 32, activation = 'tanh'))\n",
    "model.add(Dense(units = 16, activation = 'tanh'))\n",
    "model.add(Dense(units = 8, activation = 'tanh'))\n",
    "model.add(Dense(1, activation = 'sigmoid'))\n",
    "\n",
    "model.compile(optimizer = 'sgd', loss = 'mse', metrics = [MeanSquaredError()])\n",
    "history = model.fit(X_train, y_train, batch_size = 32, epochs = 150,validation_data=(X_val, y_val),callbacks=[tf.keras.callbacks.EarlyStopping(monitor='loss', patience=10,min_delta=0.1, verbose=10)])"
   ]
  },
  {
   "cell_type": "code",
   "execution_count": 26,
   "metadata": {},
   "outputs": [
    {
     "data": {
      "text/plain": [
       "<matplotlib.legend.Legend at 0x7f03644bd850>"
      ]
     },
     "execution_count": 26,
     "metadata": {},
     "output_type": "execute_result"
    },
    {
     "data": {
      "image/png": "[encoded data removed]",
      "text/plain": [
       "<Figure size 432x288 with 1 Axes>"
      ]
     },
     "metadata": {
      "needs_background": "light"
     },
     "output_type": "display_data"
    }
   ],
   "source": [
    "# Plot training & validation loss values\n",
    "plt.plot(history.history['loss'])\n",
    "plt.plot(history.history['val_loss'])\n",
    "plt.title('Model loss')\n",
    "plt.ylabel('Loss')\n",
    "plt.xlabel('Epoch')\n",
    "plt.legend(['Train', 'Test'], loc='upper left')"
   ]
  },
  {
   "cell_type": "code",
   "execution_count": null,
   "metadata": {},
   "outputs": [],
   "source": []
  }
 ],
 "metadata": {
  "kernelspec": {
   "display_name": "Python 3",
   "language": "python",
   "name": "python3"
  },
  "language_info": {
   "codemirror_mode": {
    "name": "ipython",
    "version": 3
   },
   "file_extension": ".py",
   "mimetype": "text/x-python",
   "name": "python",
   "nbconvert_exporter": "python",
   "pygments_lexer": "ipython3",
   "version": "3.8.3"
  }
 },
 "nbformat": 4,
 "nbformat_minor": 4
}
